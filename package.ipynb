{
 "cells": [
  {
   "cell_type": "markdown",
   "metadata": {},
   "source": [
    "## Install `landmapy` Package and check it"
   ]
  },
  {
   "cell_type": "code",
   "execution_count": null,
   "metadata": {},
   "outputs": [],
   "source": [
    "pip install git+https://github.com/byandell-envsys/landmapy.git"
   ]
  },
  {
   "cell_type": "code",
   "execution_count": 2,
   "metadata": {},
   "outputs": [
    {
     "name": "stdout",
     "output_type": "stream",
     "text": [
      "Note: you may need to restart the kernel to use updated packages.\n"
     ]
    }
   ],
   "source": [
    "pip install --quiet ~/Documents/GitHub/landmapy"
   ]
  },
  {
   "cell_type": "code",
   "execution_count": 3,
   "metadata": {},
   "outputs": [
    {
     "name": "stdout",
     "output_type": "stream",
     "text": [
      "Help on package landmapy:\n",
      "\n",
      "NAME\n",
      "    landmapy - Package landmapy.\n",
      "\n",
      "DESCRIPTION\n",
      "    Functions:\n",
      "        redline.redline_gdf(data_dir)\n",
      "        redline.plot_redline(redlining_gdf)\n",
      "        process.process_image(uri, bounds_gdf)\n",
      "        process.process_cloud_mask(cloud_uri, bounds_gdf, bits_to_mask)\n",
      "        process.process_metadata(city_files)\n",
      "        process.process_bands(city_gdf, raster_df)\n",
      "        index.plot_index(city_ndvi_da, city)\n",
      "        index.redline_over_index(city_redlining_gdf, city_ndvi_da)\n",
      "        index.redline_mask(city_redlining_gdf, city_ndvi_da)\n",
      "        index.redline_index_gdf(redlining_gdf, ndvi_stats)\n",
      "        index.index_grade_hv(redlining_ndvi_gdf, city)\n",
      "        index.index_tree(redlining_ndvi_gdf)\n",
      "        index.plot_index_pred(redlining_ndvi_gdf, tree_classifier, city)\n",
      "        habitat.creata_data_dir(new_dir)\n",
      "        habitat.soil_url_dict(place_gdf, soil_var, soil_sum, soil_depth)\n",
      "        habitat.merge_soil(place_gdf, soil_var, soil_sum, soil_depth, buffer)\n",
      "        habitat.da_bounds(place_gdf, da, buffer)\n",
      "        habitat.process_maca(sites, scenarios, climates, years, buffer)\n",
      "        habitat.maca_year(maca_df, row, year)\n",
      "        habitat.srtm_download(place_gdf, elevation_dir, buffer)\n",
      "        habitat.srtm_slope(srtm_da, UTM)\n",
      "        habitat.ramp_logic(data, up, down)\n",
      "\n",
      "PACKAGE CONTENTS\n",
      "    example\n",
      "    fibo\n",
      "    habitat\n",
      "    index\n",
      "    process\n",
      "    redline\n",
      "\n",
      "FILE\n",
      "    /Users/brianyandell/Documents/GitHub/landmapy/landmapy/__init__.py\n",
      "\n",
      "\n"
     ]
    }
   ],
   "source": [
    "import landmapy\n",
    "help(landmapy)"
   ]
  },
  {
   "cell_type": "code",
   "execution_count": 4,
   "metadata": {},
   "outputs": [
    {
     "name": "stdout",
     "output_type": "stream",
     "text": [
      "Help on module landmapy.redline in landmapy:\n",
      "\n",
      "NAME\n",
      "    landmapy.redline - Redline functions.\n",
      "\n",
      "DESCRIPTION\n",
      "    Read redlining data for US cities and plot a map.\n",
      "\n",
      "FUNCTIONS\n",
      "    plot_redline(redlining_gdf)\n",
      "        Plot overlay of redlining GeoDataFrame with state boundaries.\n",
      "        \n",
      "        Parameters\n",
      "        ----------\n",
      "        redlining_gdf: GeoDataFrame object\n",
      "          `gdf` with redlining cities\n",
      "        \n",
      "        Returns\n",
      "        -------\n",
      "        cropped_da: rxr.DataArray\n",
      "          Processed raster\n",
      "    \n",
      "    redline_gdf(data_dir)\n",
      "        Read redlining GeoDataFrame from Mapping Inequality.\n",
      "        \n",
      "        Parameters\n",
      "        ----------\n",
      "        data_dir: character string\n",
      "          Name of data directory\n",
      "        \n",
      "        Returns\n",
      "        -------\n",
      "        redlining_gdf: GeoDataFrame\n",
      "          GeoDataFrame\n",
      "\n",
      "FILE\n",
      "    /Users/brianyandell/Documents/GitHub/landmapy/landmapy/redline.py\n",
      "\n",
      "\n"
     ]
    }
   ],
   "source": [
    "from landmapy import redline\n",
    "help(redline)"
   ]
  },
  {
   "cell_type": "code",
   "execution_count": 5,
   "metadata": {},
   "outputs": [
    {
     "name": "stdout",
     "output_type": "stream",
     "text": [
      "Help on module landmapy.process in landmapy:\n",
      "\n",
      "NAME\n",
      "    landmapy.process - Process functions.\n",
      "\n",
      "DESCRIPTION\n",
      "    Process metadata into raster DataArray,\n",
      "    which is used to process multi-spectral image bands.\n",
      "    Function `process_bands` calls `process_image` and `process_cloud_mask`.\n",
      "\n",
      "FUNCTIONS\n",
      "    process_bands(city_gdf, raster_df)\n",
      "        Process bands from GeoDataFrame and metadata.\n",
      "        \n",
      "        Parameters\n",
      "        ----------\n",
      "        city_gdf: GeoDataFrame\n",
      "          GeoDataFrame for a city\n",
      "        raster_df: DataFrame\n",
      "          DataFrame of city metadata\n",
      "        \n",
      "        Returns\n",
      "        -------\n",
      "        city_das: DataArray\n",
      "          DataArray with image data\n",
      "    \n",
      "    process_cloud_mask(cloud_uri, bounds_gdf, bits_to_mask)\n",
      "        Load an 8-bit Fmask file and process to a boolean mask.\n",
      "        \n",
      "        Parameters\n",
      "        ----------\n",
      "        uri: file-like or path-like\n",
      "          Fmask file accessor downloaded or obtained from earthaccess\n",
      "        bounds_gdf: gpd.GeoDataFrame\n",
      "          Area of interest to crop to\n",
      "        bits_to_mask: list of int\n",
      "          The indices of the bits to mask if set\n",
      "        \n",
      "        Returns\n",
      "        -------\n",
      "        cloud_mask: np.array\n",
      "          Cloud mask\n",
      "    \n",
      "    process_image(uri, bounds_gdf)\n",
      "        Load, crop, and scale a raster image from earthaccess.\n",
      "        \n",
      "        Parameters\n",
      "        ----------\n",
      "        uri: file-like or path-like\n",
      "          File accessor downloaded or obtained from earthaccess\n",
      "        bounds_gdf: gpd.GeoDataFrame\n",
      "          Area of interest to crop to\n",
      "        \n",
      "        Returns\n",
      "        -------\n",
      "        cropped_da: rxr.DataArray\n",
      "          Processed raster\n",
      "    \n",
      "    process_metadata(city_files)\n",
      "        Process raster data from earthaccess metadata.\n",
      "        \n",
      "        Parameters\n",
      "        ----------\n",
      "        city_files: file-like URI\n",
      "          File names from earthaccess\n",
      "        \n",
      "        Returns\n",
      "        -------\n",
      "        raster_df: DataFrame\n",
      "          DataFrame with the metadata\n",
      "\n",
      "FILE\n",
      "    /Users/brianyandell/Documents/GitHub/landmapy/landmapy/process.py\n",
      "\n",
      "\n"
     ]
    }
   ],
   "source": [
    "from landmapy import process\n",
    "help(process)"
   ]
  },
  {
   "cell_type": "code",
   "execution_count": 6,
   "metadata": {},
   "outputs": [
    {
     "name": "stdout",
     "output_type": "stream",
     "text": [
      "Help on module landmapy.index in landmapy:\n",
      "\n",
      "NAME\n",
      "    landmapy.index - Index functions.\n",
      "\n",
      "DESCRIPTION\n",
      "    Plot map for created index and overlay with redlining grades.\n",
      "    Mask map by redline grades and create a `GeoDataFrame`.\n",
      "    Fit a tree model and compare maps.\n",
      "\n",
      "FUNCTIONS\n",
      "    gdf_over_da(place_gdf, index_da, edgecolor='black', cmap='terrain')\n",
      "        Overlay GeoDataFrame on DataArray map.\n",
      "        \n",
      "        Default `cmap` is 'viridis`;\n",
      "        See <https://matplotlib.org/stable/users/explain/colors/colormaps.html>.\n",
      "        \n",
      "        Parameters\n",
      "        ----------\n",
      "        place_gdf: GeoDataFrame\n",
      "          GeoDataFrame for redlined city\n",
      "        index_da: DataArray\n",
      "          DataArray containing NDVI index for city\n",
      "        city: character string\n",
      "          Name of selected city\n",
      "        edgecolor: character string\n",
      "          Name of color for edges of `place_gdf`\n",
      "    \n",
      "    index_grade_hv(redlining_ndvi_gdf, city)\n",
      "        HV plots for index and grade.\n",
      "                \n",
      "        Parameters\n",
      "        ----------\n",
      "        redlining_ndvi_gdf: GeoDataFrame\n",
      "          GeoDataFrame with zonal stats.\n",
      "        city: character string\n",
      "          Name of selected city\n",
      "        \n",
      "        Returns\n",
      "        -------\n",
      "        ndvi_hv, grade_hv: hvplot\n",
      "          HV plot objects for mean index and redline grade.\n",
      "    \n",
      "    index_tree(redlining_ndvi_gdf)\n",
      "        Convert categories to numbers\n",
      "                \n",
      "        Parameters\n",
      "        ----------\n",
      "        redlining_ndvi_gdf: GeoDataFrame\n",
      "          GeoDataFrame with zonal stats.\n",
      "        \n",
      "        Returns\n",
      "        -------\n",
      "        tree_classifier: decision_tree\n",
      "          Decision tree for classifier.\n",
      "    \n",
      "    plot_index(index_da, city)\n",
      "        Show plot of index.\n",
      "        \n",
      "        Parameters\n",
      "        ----------\n",
      "        index_da: DataArray\n",
      "          DataArray containing NDVI index for city\n",
      "        city: character string\n",
      "          Name of selected city\n",
      "    \n",
      "    plot_index_pred(redlining_ndvi_gdf, tree_classifier, city)\n",
      "        Plot the model results.\n",
      "                \n",
      "        Parameters\n",
      "        ----------\n",
      "        redlining_ndvi_gdf: GeoDataFrame\n",
      "          GeoDataFrame with zonal stats.\n",
      "        tree_classifier: decision_tree\n",
      "          Decision tree for classifier.\n",
      "        city: character string\n",
      "          Name of selected city\n",
      "        \n",
      "        Returns\n",
      "        -------\n",
      "        pred_hv: hvplot\n",
      "          HV plot object for tree classifier.\n",
      "    \n",
      "    redline_index_gdf(redlining_gdf, ndvi_stats)\n",
      "        Merge NDVI stats with redlining geometry into one GeoDataFrame and plot.\n",
      "            \n",
      "        Parameters\n",
      "        ----------\n",
      "        redlining_gdf: GeoDataFrame\n",
      "          GeoDataFrame for redlined city\n",
      "        ndvi_stats: DataArray\n",
      "          DataArray with zonal stats\n",
      "        \n",
      "        Returns\n",
      "        -------\n",
      "        redlining_ndvi_gdf: GeoDataFrame\n",
      "          GeoDataFrame with zonal stats.\n",
      "    \n",
      "    redline_mask(place_gdf, index_da)\n",
      "        Define new variable for denver redlining mask, using regionmask.\n",
      "        \n",
      "        Parameters\n",
      "        ----------\n",
      "        place_gdf: GeoDataFrame\n",
      "          GeoDataFrame for redlined city\n",
      "        index_da: DataArray\n",
      "          DataArray containing NDVI index for city\n",
      "        \n",
      "        Returns\n",
      "        -------\n",
      "        redlining_mask: GeoDataFrame\n",
      "          GeoDataFrame with `regionmask` applied.\n",
      "    \n",
      "    redline_over_index(place_gdf, index_da, edgecolor='black', cmap='terrain')\n",
      "        Deprecated. Use gdf_over_da\n",
      "\n",
      "FILE\n",
      "    /Users/brianyandell/Documents/GitHub/landmapy/landmapy/index.py\n",
      "\n",
      "\n"
     ]
    }
   ],
   "source": [
    "from landmapy import index\n",
    "help(index)"
   ]
  },
  {
   "cell_type": "code",
   "execution_count": 7,
   "metadata": {},
   "outputs": [
    {
     "name": "stdout",
     "output_type": "stream",
     "text": [
      "Help on module landmapy.habitat in landmapy:\n",
      "\n",
      "NAME\n",
      "    landmapy.habitat\n",
      "\n",
      "FUNCTIONS\n",
      "    create_data_dir(new_dir='habitat')\n",
      "        Create Data Directory if it does not exist.\n",
      "        \n",
      "        Parameters\n",
      "        ----------\n",
      "        new_dir: character string\n",
      "            Name of new directory\n",
      "    \n",
      "    da_bounds(place_gdf, da, buffer=0.1)\n",
      "        Clip bounds from place_gdf on da extended by buffer.\n",
      "        \n",
      "        The buffer value could be 0.025 instead of 0.1\n",
      "        \n",
      "        Parameters\n",
      "        ----------\n",
      "        place_gdf: GeoDataFrame\n",
      "            GeoDataFrame of selected location\n",
      "        da: DataFrame\n",
      "            DataFrame from calling routine\n",
      "        buffer: number\n",
      "            Buffer around bounds of place_gdf\n",
      "        Results\n",
      "        -------\n",
      "        da: DataFrame\n",
      "            DataFrame with restricted to bounds of place_gdf\n",
      "    \n",
      "    maca_year(maca_df, row=0, year=2027)\n",
      "        Extract and print year data\n",
      "        \n",
      "        Parameters\n",
      "        ----------\n",
      "        maca_df: DataFrame\n",
      "            DataFrame with MACA data by row\n",
      "        \n",
      "        Returns\n",
      "        -------\n",
      "        maca_year: DataArray\n",
      "            DataArray for year and row selected.\n",
      "    \n",
      "    merge_soil(place_gdf, soil_var='sand', soil_sum='mean', soil_depth='100_200', buffer=0.1)\n",
      "        Merge soil data.\n",
      "        \n",
      "        Parameters\n",
      "        ----------\n",
      "        place_gdf: GeoDataFrame\n",
      "            GeoDataFrame of selected location\n",
      "        soil_var, soil_sum, soil_depth: character string\n",
      "            Name of soil variable, summary and depth\n",
      "        buffer: number\n",
      "            Buffer around bounds of place_gdf\n",
      "        Results\n",
      "        -------\n",
      "        soil_merged_das: DataFrame\n",
      "            DataFrame with soil estimates clipped to bounds of place_gdf\n",
      "    \n",
      "    process_maca(sites, scenarios=['pr'], climates=['rcp85', 'rcp45'], years=[2026], buffer=0.1)\n",
      "        Process MACA Monthly Data.\n",
      "        \n",
      "        Parameters\n",
      "        ----------\n",
      "        sites: dict of GeoDataFrames\n",
      "           dictionary with GeoDataFrames\n",
      "        scenarios: character string\n",
      "            'pr' = precipitation\n",
      "        climates: character string\n",
      "            'rcp' = relative concentration pathway\n",
      "        years: numeric\n",
      "            first year of 5-year period\n",
      "        buffer: number\n",
      "            Buffer around bounds of place_gdf\n",
      "        \n",
      "        Returns\n",
      "        -------\n",
      "        maca_df: DataFrame\n",
      "            data frame with parameters and values\n",
      "    \n",
      "    ramp_logic(data, up=(), down=())\n",
      "        Fuzzy ramp logic.\n",
      "        \n",
      "        Parameters\n",
      "        ----------\n",
      "        data: DataArray\n",
      "            DataArray with land measurements\n",
      "        up, down: lists of floats\n",
      "            Either 1 (cliff) or 2 (ramp) values for fuzzy on-off\n",
      "        Returns\n",
      "        -------\n",
      "        fuzzy_data: DataArray\n",
      "            Ramp with values between 0 and 1\n",
      "    \n",
      "    soil_url_dict(place_gdf, soil_var='sand', soil_sum='mean', soil_depth='100_200')\n",
      "        Set up soil URLs based on place.\n",
      "        \n",
      "        Parameters\n",
      "        ----------\n",
      "        place_gdf: GeoDataFrame\n",
      "            GeoDataFrame of selected location\n",
      "        soil_var, soil_sum, soil_depth: character string\n",
      "            Name of soil variable, summary and depth\n",
      "        \n",
      "        Results\n",
      "        -------\n",
      "        soil_url: dict\n",
      "            Dictionary of URLs\n",
      "    \n",
      "    srtm_download(place_gdf, elevation_dir, buffer=0.1)\n",
      "        Download SRTM data and create DataArray.\n",
      "        \n",
      "        Parameters\n",
      "        ----------\n",
      "        place_gdf: GeoDataFrame\n",
      "          GeoDataFrame for redlined city\n",
      "        elevation_dir: character string\n",
      "          Name of directory with elevation data\n",
      "        buffer: number\n",
      "          Buffer around bounds of place_gdf\n",
      "        Results\n",
      "        -------\n",
      "        srtm_da: DataArray\n",
      "          DataArray of SRTM stuff\n",
      "    \n",
      "    srtm_slope(srtm_da, UTM=32613)\n",
      "        Calculate slope from SRTM data.\n",
      "        \n",
      "        Project to UTM to calculate slope, then project back.\n",
      "        \n",
      "        Parameters\n",
      "        ----------\n",
      "        srtm_da: DataArray\n",
      "            DataArray with elevation information\n",
      "        UTM: number or character string\n",
      "            UTM value (default is for UTM13N)\n",
      "        Returns\n",
      "        -------\n",
      "        slope_da: DataArray\n",
      "            DataArray with slopes (may be slightly different shape from srtm_da)\n",
      "\n",
      "FILE\n",
      "    /Users/brianyandell/Documents/GitHub/landmapy/landmapy/habitat.py\n",
      "\n",
      "\n"
     ]
    }
   ],
   "source": [
    "from landmapy import habitat\n",
    "help(habitat)"
   ]
  },
  {
   "cell_type": "markdown",
   "metadata": {},
   "source": [
    "## Example Uses of demo modules"
   ]
  },
  {
   "cell_type": "code",
   "execution_count": 3,
   "metadata": {},
   "outputs": [
    {
     "name": "stdout",
     "output_type": "stream",
     "text": [
      "0 1 1 2 3 5 8 13 21 34 55 89 144 233 377 610 987 \n"
     ]
    }
   ],
   "source": [
    "from landmapy import fibo\n",
    "fibo.fib(1000)"
   ]
  },
  {
   "cell_type": "code",
   "execution_count": 4,
   "metadata": {},
   "outputs": [
    {
     "name": "stdout",
     "output_type": "stream",
     "text": [
      "0 1 1 2 3 5 8 13 21 34 55 89 144 233 377 \n"
     ]
    }
   ],
   "source": [
    "from landmapy.fibo import fib as fibonacci\n",
    "fibonacci(500)"
   ]
  },
  {
   "cell_type": "code",
   "execution_count": 5,
   "metadata": {},
   "outputs": [
    {
     "data": {
      "text/plain": [
       "6"
      ]
     },
     "execution_count": 5,
     "metadata": {},
     "output_type": "execute_result"
    }
   ],
   "source": [
    "from landmapy.example import add_one\n",
    "add_one(5)"
   ]
  },
  {
   "cell_type": "code",
   "execution_count": 6,
   "metadata": {},
   "outputs": [
    {
     "data": {
      "text/plain": [
       "'__main__'"
      ]
     },
     "execution_count": 6,
     "metadata": {},
     "output_type": "execute_result"
    }
   ],
   "source": [
    "# `__name__` is a special variable with name of module\n",
    "# main module has value '__main__'.\n",
    "__name__"
   ]
  },
  {
   "cell_type": "code",
   "execution_count": 7,
   "metadata": {},
   "outputs": [
    {
     "name": "stdout",
     "output_type": "stream",
     "text": [
      "5.0\n",
      "landmapy.example\n"
     ]
    }
   ],
   "source": [
    "import landmapy.example as example\n",
    "example.div_two(10)\n",
    "example.mod_name()"
   ]
  },
  {
   "cell_type": "code",
   "execution_count": 8,
   "metadata": {},
   "outputs": [
    {
     "data": {
      "text/plain": [
       "['__builtins__',\n",
       " '__cached__',\n",
       " '__doc__',\n",
       " '__file__',\n",
       " '__loader__',\n",
       " '__name__',\n",
       " '__package__',\n",
       " '__spec__',\n",
       " 'add_one',\n",
       " 'div_two',\n",
       " 'mod_name',\n",
       " 'mod_path']"
      ]
     },
     "execution_count": 8,
     "metadata": {},
     "output_type": "execute_result"
    }
   ],
   "source": [
    "dir(example)"
   ]
  },
  {
   "cell_type": "code",
   "execution_count": 2,
   "metadata": {},
   "outputs": [],
   "source": [
    "from landmapy import process_image"
   ]
  },
  {
   "cell_type": "code",
   "execution_count": 3,
   "metadata": {},
   "outputs": [
    {
     "name": "stdout",
     "output_type": "stream",
     "text": [
      "Help on module landmapy.process_image in landmapy:\n",
      "\n",
      "NAME\n",
      "    landmapy.process_image\n",
      "\n",
      "FUNCTIONS\n",
      "    process_image(uri, bounds_gdf)\n",
      "        Load, crop, and scale a raster image from earthaccess\n",
      "        \n",
      "        Parameters\n",
      "        ----------\n",
      "        uri: file-like or path-like\n",
      "          File accessor downloaded or obtained from earthaccess\n",
      "        bounds_gdf: gpd.GeoDataFrame\n",
      "          Area of interest to crop to\n",
      "        \n",
      "        Returns\n",
      "        -------\n",
      "        cropped_da: rxr.DataArray\n",
      "          Processed raster\n",
      "\n",
      "FILE\n",
      "    /Users/brianyandell/Documents/GitHub/landmapy/landmapy/process_image.py\n",
      "\n",
      "\n"
     ]
    }
   ],
   "source": [
    "help(process_image)"
   ]
  }
 ],
 "metadata": {
  "kernelspec": {
   "display_name": "earth-analytics-python",
   "language": "python",
   "name": "python3"
  },
  "language_info": {
   "codemirror_mode": {
    "name": "ipython",
    "version": 3
   },
   "file_extension": ".py",
   "mimetype": "text/x-python",
   "name": "python",
   "nbconvert_exporter": "python",
   "pygments_lexer": "ipython3",
   "version": "3.11.10"
  }
 },
 "nbformat": 4,
 "nbformat_minor": 2
}
