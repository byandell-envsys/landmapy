{
 "cells": [
  {
   "cell_type": "markdown",
   "metadata": {},
   "source": [
    "## Install `landmapy` Package and check it"
   ]
  },
  {
   "cell_type": "code",
   "execution_count": 1,
   "metadata": {},
   "outputs": [
    {
     "name": "stdout",
     "output_type": "stream",
     "text": [
      "Collecting radian\n",
      "  Using cached radian-0.6.13-py3-none-any.whl\n",
      "Collecting rchitect<0.5.0,>=0.4.7 (from radian)\n",
      "  Using cached rchitect-0.4.7-cp311-cp311-macosx_11_0_arm64.whl.metadata (2.9 kB)\n",
      "Requirement already satisfied: prompt-toolkit<3.1,>=3.0.41 in /Users/brianyandell/miniconda3/envs/earth-analytics-python/lib/python3.11/site-packages (from radian) (3.0.48)\n",
      "Requirement already satisfied: pygments>=2.5.0 in /Users/brianyandell/miniconda3/envs/earth-analytics-python/lib/python3.11/site-packages (from radian) (2.18.0)\n",
      "Requirement already satisfied: wcwidth in /Users/brianyandell/miniconda3/envs/earth-analytics-python/lib/python3.11/site-packages (from prompt-toolkit<3.1,>=3.0.41->radian) (0.2.13)\n",
      "Requirement already satisfied: cffi>=1.10.0 in /Users/brianyandell/miniconda3/envs/earth-analytics-python/lib/python3.11/site-packages (from rchitect<0.5.0,>=0.4.7->radian) (1.17.1)\n",
      "Requirement already satisfied: six>=1.9.0 in /Users/brianyandell/miniconda3/envs/earth-analytics-python/lib/python3.11/site-packages (from rchitect<0.5.0,>=0.4.7->radian) (1.16.0)\n",
      "Requirement already satisfied: packaging>=23.0 in /Users/brianyandell/miniconda3/envs/earth-analytics-python/lib/python3.11/site-packages (from rchitect<0.5.0,>=0.4.7->radian) (24.2)\n",
      "Requirement already satisfied: pycparser in /Users/brianyandell/miniconda3/envs/earth-analytics-python/lib/python3.11/site-packages (from cffi>=1.10.0->rchitect<0.5.0,>=0.4.7->radian) (2.22)\n",
      "Using cached rchitect-0.4.7-cp311-cp311-macosx_11_0_arm64.whl (77 kB)\n",
      "Installing collected packages: rchitect, radian\n",
      "Successfully installed radian-0.6.13 rchitect-0.4.7\n",
      "Note: you may need to restart the kernel to use updated packages.\n"
     ]
    }
   ],
   "source": [
    "pip install -U radian"
   ]
  },
  {
   "cell_type": "code",
   "execution_count": 4,
   "metadata": {},
   "outputs": [
    {
     "name": "stdout",
     "output_type": "stream",
     "text": [
      "Collecting git+https://github.com/byandell-envsys/landmapy.git\n",
      "  Cloning https://github.com/byandell-envsys/landmapy.git to /private/var/folders/tt/cyd1sy9s18l1fgc_0ty8l91w0000gn/T/pip-req-build-gegtqss2\n",
      "  Running command git clone --filter=blob:none --quiet https://github.com/byandell-envsys/landmapy.git /private/var/folders/tt/cyd1sy9s18l1fgc_0ty8l91w0000gn/T/pip-req-build-gegtqss2\n",
      "  Resolved https://github.com/byandell-envsys/landmapy.git to commit 71f35aaa2a3f972fb56f87e4467c99194df84768\n",
      "  Installing build dependencies ... \u001b[?25ldone\n",
      "\u001b[?25h  Getting requirements to build wheel ... \u001b[?25ldone\n",
      "\u001b[?25h  Preparing metadata (pyproject.toml) ... \u001b[?25ldone\n",
      "\u001b[?25hRequirement already satisfied: cartopy in /Users/brianyandell/miniconda3/envs/earth-analytics-python/lib/python3.11/site-packages (from landmapy==0.3) (0.24.0)\n",
      "Requirement already satisfied: geopandas in /Users/brianyandell/miniconda3/envs/earth-analytics-python/lib/python3.11/site-packages (from landmapy==0.3) (1.0.1)\n",
      "Requirement already satisfied: hvplot in /Users/brianyandell/miniconda3/envs/earth-analytics-python/lib/python3.11/site-packages (from landmapy==0.3) (0.11.1)\n",
      "Requirement already satisfied: matplotlib in /Users/brianyandell/miniconda3/envs/earth-analytics-python/lib/python3.11/site-packages (from landmapy==0.3) (3.9.2)\n",
      "Requirement already satisfied: numpy in /Users/brianyandell/miniconda3/envs/earth-analytics-python/lib/python3.11/site-packages (from landmapy==0.3) (2.0.2)\n",
      "Requirement already satisfied: pandas in /Users/brianyandell/miniconda3/envs/earth-analytics-python/lib/python3.11/site-packages (from landmapy==0.3) (2.2.3)\n",
      "Requirement already satisfied: regionmask in /Users/brianyandell/miniconda3/envs/earth-analytics-python/lib/python3.11/site-packages (from landmapy==0.3) (0.12.1)\n",
      "Requirement already satisfied: rioxarray in /Users/brianyandell/miniconda3/envs/earth-analytics-python/lib/python3.11/site-packages (from landmapy==0.3) (0.17.0)\n",
      "Requirement already satisfied: shapely>=1.8 in /Users/brianyandell/miniconda3/envs/earth-analytics-python/lib/python3.11/site-packages (from cartopy->landmapy==0.3) (2.0.6)\n",
      "Requirement already satisfied: packaging>=21 in /Users/brianyandell/miniconda3/envs/earth-analytics-python/lib/python3.11/site-packages (from cartopy->landmapy==0.3) (24.2)\n",
      "Requirement already satisfied: pyshp>=2.3 in /Users/brianyandell/miniconda3/envs/earth-analytics-python/lib/python3.11/site-packages (from cartopy->landmapy==0.3) (2.3.1)\n",
      "Requirement already satisfied: pyproj>=3.3.1 in /Users/brianyandell/miniconda3/envs/earth-analytics-python/lib/python3.11/site-packages (from cartopy->landmapy==0.3) (3.7.0)\n",
      "Requirement already satisfied: contourpy>=1.0.1 in /Users/brianyandell/miniconda3/envs/earth-analytics-python/lib/python3.11/site-packages (from matplotlib->landmapy==0.3) (1.3.1)\n",
      "Requirement already satisfied: cycler>=0.10 in /Users/brianyandell/miniconda3/envs/earth-analytics-python/lib/python3.11/site-packages (from matplotlib->landmapy==0.3) (0.12.1)\n",
      "Requirement already satisfied: fonttools>=4.22.0 in /Users/brianyandell/miniconda3/envs/earth-analytics-python/lib/python3.11/site-packages (from matplotlib->landmapy==0.3) (4.55.0)\n",
      "Requirement already satisfied: kiwisolver>=1.3.1 in /Users/brianyandell/miniconda3/envs/earth-analytics-python/lib/python3.11/site-packages (from matplotlib->landmapy==0.3) (1.4.7)\n",
      "Requirement already satisfied: pillow>=8 in /Users/brianyandell/miniconda3/envs/earth-analytics-python/lib/python3.11/site-packages (from matplotlib->landmapy==0.3) (11.0.0)\n",
      "Requirement already satisfied: pyparsing>=2.3.1 in /Users/brianyandell/miniconda3/envs/earth-analytics-python/lib/python3.11/site-packages (from matplotlib->landmapy==0.3) (3.2.0)\n",
      "Requirement already satisfied: python-dateutil>=2.7 in /Users/brianyandell/miniconda3/envs/earth-analytics-python/lib/python3.11/site-packages (from matplotlib->landmapy==0.3) (2.9.0.post0)\n",
      "Requirement already satisfied: pyogrio>=0.7.2 in /Users/brianyandell/miniconda3/envs/earth-analytics-python/lib/python3.11/site-packages (from geopandas->landmapy==0.3) (0.10.0)\n",
      "Requirement already satisfied: pytz>=2020.1 in /Users/brianyandell/miniconda3/envs/earth-analytics-python/lib/python3.11/site-packages (from pandas->landmapy==0.3) (2024.1)\n",
      "Requirement already satisfied: tzdata>=2022.7 in /Users/brianyandell/miniconda3/envs/earth-analytics-python/lib/python3.11/site-packages (from pandas->landmapy==0.3) (2024.2)\n",
      "Requirement already satisfied: bokeh>=3.1 in /Users/brianyandell/miniconda3/envs/earth-analytics-python/lib/python3.11/site-packages (from hvplot->landmapy==0.3) (3.5.2)\n",
      "Requirement already satisfied: colorcet>=2 in /Users/brianyandell/miniconda3/envs/earth-analytics-python/lib/python3.11/site-packages (from hvplot->landmapy==0.3) (3.1.0)\n",
      "Requirement already satisfied: holoviews>=1.19.0 in /Users/brianyandell/miniconda3/envs/earth-analytics-python/lib/python3.11/site-packages (from hvplot->landmapy==0.3) (1.20.0)\n",
      "Requirement already satisfied: panel>=1.0 in /Users/brianyandell/miniconda3/envs/earth-analytics-python/lib/python3.11/site-packages (from hvplot->landmapy==0.3) (1.5.4)\n",
      "Requirement already satisfied: param<3.0,>=1.12.0 in /Users/brianyandell/miniconda3/envs/earth-analytics-python/lib/python3.11/site-packages (from hvplot->landmapy==0.3) (2.1.1)\n",
      "Requirement already satisfied: pooch>=1.4 in /Users/brianyandell/miniconda3/envs/earth-analytics-python/lib/python3.11/site-packages (from regionmask->landmapy==0.3) (1.8.2)\n",
      "Requirement already satisfied: rasterio>=1.2 in /Users/brianyandell/miniconda3/envs/earth-analytics-python/lib/python3.11/site-packages (from regionmask->landmapy==0.3) (1.4.3)\n",
      "Requirement already satisfied: xarray>=0.20 in /Users/brianyandell/miniconda3/envs/earth-analytics-python/lib/python3.11/site-packages (from regionmask->landmapy==0.3) (2024.11.0)\n",
      "Requirement already satisfied: Jinja2>=2.9 in /Users/brianyandell/miniconda3/envs/earth-analytics-python/lib/python3.11/site-packages (from bokeh>=3.1->hvplot->landmapy==0.3) (3.1.4)\n",
      "Requirement already satisfied: PyYAML>=3.10 in /Users/brianyandell/miniconda3/envs/earth-analytics-python/lib/python3.11/site-packages (from bokeh>=3.1->hvplot->landmapy==0.3) (6.0.2)\n",
      "Requirement already satisfied: tornado>=6.2 in /Users/brianyandell/miniconda3/envs/earth-analytics-python/lib/python3.11/site-packages (from bokeh>=3.1->hvplot->landmapy==0.3) (6.4.2)\n",
      "Requirement already satisfied: xyzservices>=2021.09.1 in /Users/brianyandell/miniconda3/envs/earth-analytics-python/lib/python3.11/site-packages (from bokeh>=3.1->hvplot->landmapy==0.3) (2024.9.0)\n",
      "Requirement already satisfied: pyviz-comms>=2.1 in /Users/brianyandell/miniconda3/envs/earth-analytics-python/lib/python3.11/site-packages (from holoviews>=1.19.0->hvplot->landmapy==0.3) (3.0.3)\n",
      "Requirement already satisfied: bleach in /Users/brianyandell/miniconda3/envs/earth-analytics-python/lib/python3.11/site-packages (from panel>=1.0->hvplot->landmapy==0.3) (6.2.0)\n",
      "Requirement already satisfied: linkify-it-py in /Users/brianyandell/miniconda3/envs/earth-analytics-python/lib/python3.11/site-packages (from panel>=1.0->hvplot->landmapy==0.3) (2.0.3)\n",
      "Requirement already satisfied: markdown in /Users/brianyandell/miniconda3/envs/earth-analytics-python/lib/python3.11/site-packages (from panel>=1.0->hvplot->landmapy==0.3) (3.6)\n",
      "Requirement already satisfied: markdown-it-py in /Users/brianyandell/miniconda3/envs/earth-analytics-python/lib/python3.11/site-packages (from panel>=1.0->hvplot->landmapy==0.3) (3.0.0)\n",
      "Requirement already satisfied: mdit-py-plugins in /Users/brianyandell/miniconda3/envs/earth-analytics-python/lib/python3.11/site-packages (from panel>=1.0->hvplot->landmapy==0.3) (0.4.2)\n",
      "Requirement already satisfied: requests in /Users/brianyandell/miniconda3/envs/earth-analytics-python/lib/python3.11/site-packages (from panel>=1.0->hvplot->landmapy==0.3) (2.32.3)\n",
      "Requirement already satisfied: tqdm in /Users/brianyandell/miniconda3/envs/earth-analytics-python/lib/python3.11/site-packages (from panel>=1.0->hvplot->landmapy==0.3) (4.67.1)\n",
      "Requirement already satisfied: typing-extensions in /Users/brianyandell/miniconda3/envs/earth-analytics-python/lib/python3.11/site-packages (from panel>=1.0->hvplot->landmapy==0.3) (4.12.2)\n",
      "Requirement already satisfied: platformdirs>=2.5.0 in /Users/brianyandell/miniconda3/envs/earth-analytics-python/lib/python3.11/site-packages (from pooch>=1.4->regionmask->landmapy==0.3) (4.3.6)\n",
      "Requirement already satisfied: certifi in /Users/brianyandell/miniconda3/envs/earth-analytics-python/lib/python3.11/site-packages (from pyogrio>=0.7.2->geopandas->landmapy==0.3) (2024.8.30)\n",
      "Requirement already satisfied: six>=1.5 in /Users/brianyandell/miniconda3/envs/earth-analytics-python/lib/python3.11/site-packages (from python-dateutil>=2.7->matplotlib->landmapy==0.3) (1.16.0)\n",
      "Requirement already satisfied: affine in /Users/brianyandell/miniconda3/envs/earth-analytics-python/lib/python3.11/site-packages (from rasterio>=1.2->regionmask->landmapy==0.3) (2.4.0)\n",
      "Requirement already satisfied: attrs in /Users/brianyandell/miniconda3/envs/earth-analytics-python/lib/python3.11/site-packages (from rasterio>=1.2->regionmask->landmapy==0.3) (24.2.0)\n",
      "Requirement already satisfied: click>=4.0 in /Users/brianyandell/miniconda3/envs/earth-analytics-python/lib/python3.11/site-packages (from rasterio>=1.2->regionmask->landmapy==0.3) (8.1.7)\n",
      "Requirement already satisfied: cligj>=0.5 in /Users/brianyandell/miniconda3/envs/earth-analytics-python/lib/python3.11/site-packages (from rasterio>=1.2->regionmask->landmapy==0.3) (0.7.2)\n",
      "Requirement already satisfied: click-plugins in /Users/brianyandell/miniconda3/envs/earth-analytics-python/lib/python3.11/site-packages (from rasterio>=1.2->regionmask->landmapy==0.3) (1.1.1)\n",
      "Requirement already satisfied: MarkupSafe>=2.0 in /Users/brianyandell/miniconda3/envs/earth-analytics-python/lib/python3.11/site-packages (from Jinja2>=2.9->bokeh>=3.1->hvplot->landmapy==0.3) (3.0.2)\n",
      "Requirement already satisfied: charset-normalizer<4,>=2 in /Users/brianyandell/miniconda3/envs/earth-analytics-python/lib/python3.11/site-packages (from requests->panel>=1.0->hvplot->landmapy==0.3) (3.4.0)\n",
      "Requirement already satisfied: idna<4,>=2.5 in /Users/brianyandell/miniconda3/envs/earth-analytics-python/lib/python3.11/site-packages (from requests->panel>=1.0->hvplot->landmapy==0.3) (3.10)\n",
      "Requirement already satisfied: urllib3<3,>=1.21.1 in /Users/brianyandell/miniconda3/envs/earth-analytics-python/lib/python3.11/site-packages (from requests->panel>=1.0->hvplot->landmapy==0.3) (2.2.3)\n",
      "Requirement already satisfied: webencodings in /Users/brianyandell/miniconda3/envs/earth-analytics-python/lib/python3.11/site-packages (from bleach->panel>=1.0->hvplot->landmapy==0.3) (0.5.1)\n",
      "Requirement already satisfied: uc-micro-py in /Users/brianyandell/miniconda3/envs/earth-analytics-python/lib/python3.11/site-packages (from linkify-it-py->panel>=1.0->hvplot->landmapy==0.3) (1.0.3)\n",
      "Requirement already satisfied: mdurl~=0.1 in /Users/brianyandell/miniconda3/envs/earth-analytics-python/lib/python3.11/site-packages (from markdown-it-py->panel>=1.0->hvplot->landmapy==0.3) (0.1.2)\n",
      "Note: you may need to restart the kernel to use updated packages.\n"
     ]
    }
   ],
   "source": [
    "pip install git+https://github.com/byandell-envsys/landmapy.git"
   ]
  },
  {
   "cell_type": "code",
   "execution_count": 2,
   "metadata": {},
   "outputs": [
    {
     "name": "stdout",
     "output_type": "stream",
     "text": [
      "Note: you may need to restart the kernel to use updated packages.\n"
     ]
    }
   ],
   "source": [
    "pip install --quiet ~/Documents/GitHub/landmapy"
   ]
  },
  {
   "cell_type": "code",
   "execution_count": 3,
   "metadata": {},
   "outputs": [
    {
     "name": "stdout",
     "output_type": "stream",
     "text": [
      "Help on package landmapy:\n",
      "\n",
      "NAME\n",
      "    landmapy - Package landmapy.\n",
      "\n",
      "DESCRIPTION\n",
      "    Functions:\n",
      "        redline.redline_gdf(data_dir)\n",
      "        redline.plot_redline(redlining_gdf)\n",
      "        process.process_image(uri, bounds_gdf)\n",
      "        process.process_cloud_mask(cloud_uri, bounds_gdf, bits_to_mask)\n",
      "        process.process_metadata(city_files)\n",
      "        process.process_bands(city_gdf, raster_df)\n",
      "        index.plot_index(city_ndvi_da, city)\n",
      "        index.redline_over_index(city_redlining_gdf, city_ndvi_da)\n",
      "        index.redline_mask(city_redlining_gdf, city_ndvi_da)\n",
      "        index.redline_index_gdf(redlining_gdf, ndvi_stats)\n",
      "        index.index_grade_hv(redlining_ndvi_gdf, city)\n",
      "        index.index_tree(redlining_ndvi_gdf)\n",
      "        index.plot_index_pred(redlining_ndvi_gdf, tree_classifier, city)\n",
      "        habitat.creata_data_dir(new_dir)\n",
      "        habitat.soil_url_dict(place_gdf, soil_var, soil_sum, soil_depth)\n",
      "        habitat.merge_soil(place_gdf, soil_var, soil_sum, soil_depth, buffer)\n",
      "        habitat.da_bounds(place_gdf, da, buffer)\n",
      "        habitat.process_maca(sites, scenarios, climates, years, buffer)\n",
      "        habitat.maca_year(maca_df, row, year)\n",
      "        habitat.srtm_download(place_gdf, elevation_dir, buffer)\n",
      "        habitat.srtm_slope(srtm_da, UTM)\n",
      "        habitat.ramp_logic(data, up, down)\n",
      "\n",
      "PACKAGE CONTENTS\n",
      "    example\n",
      "    fibo\n",
      "    habitat\n",
      "    index\n",
      "    process\n",
      "    redline\n",
      "\n",
      "FILE\n",
      "    /Users/brianyandell/Documents/GitHub/landmapy/landmapy/__init__.py\n",
      "\n",
      "\n"
     ]
    }
   ],
   "source": [
    "import landmapy\n",
    "help(landmapy)"
   ]
  },
  {
   "cell_type": "code",
   "execution_count": 2,
   "metadata": {},
   "outputs": [
    {
     "name": "stdout",
     "output_type": "stream",
     "text": [
      "Help on function plot_das in module landmapy.plot:\n",
      "\n",
      "plot_das(das, titles=None, axes=['latitude', 'longitude'], gdf=None, onebar=True, cmap='terrain')\n",
      "    Create rows of plots for a list of DataArrays.\n",
      "    \n",
      "    Args:\n",
      "        das (list of da): List of DataArrays to plot.\n",
      "        titles (list of str, optional): List of plot titles. Defaults to None.\n",
      "        gdf (gdf, optional): GeoDataFrame to overlay on the plot. Defaults to None.\n",
      "        onebar (bool, optional): One bar if True (default).\n",
      "        cmap (str, optional): Color map. Defaults to 'terrain'.\n",
      "\n"
     ]
    }
   ],
   "source": [
    "from landmapy.plot import plot_das\n",
    "help(plot_das)"
   ]
  },
  {
   "cell_type": "code",
   "execution_count": 5,
   "metadata": {},
   "outputs": [
    {
     "name": "stdout",
     "output_type": "stream",
     "text": [
      "Help on module landmapy.process in landmapy:\n",
      "\n",
      "NAME\n",
      "    landmapy.process - Process functions.\n",
      "\n",
      "DESCRIPTION\n",
      "    Process metadata into raster DataArray,\n",
      "    which is used to process multi-spectral image bands.\n",
      "    Function `process_bands` calls `process_image` and `process_cloud_mask`.\n",
      "\n",
      "FUNCTIONS\n",
      "    process_bands(city_gdf, raster_df)\n",
      "        Process bands from GeoDataFrame and metadata.\n",
      "        \n",
      "        Parameters\n",
      "        ----------\n",
      "        city_gdf: GeoDataFrame\n",
      "          GeoDataFrame for a city\n",
      "        raster_df: DataFrame\n",
      "          DataFrame of city metadata\n",
      "        \n",
      "        Returns\n",
      "        -------\n",
      "        city_das: DataArray\n",
      "          DataArray with image data\n",
      "    \n",
      "    process_cloud_mask(cloud_uri, bounds_gdf, bits_to_mask)\n",
      "        Load an 8-bit Fmask file and process to a boolean mask.\n",
      "        \n",
      "        Parameters\n",
      "        ----------\n",
      "        uri: file-like or path-like\n",
      "          Fmask file accessor downloaded or obtained from earthaccess\n",
      "        bounds_gdf: gpd.GeoDataFrame\n",
      "          Area of interest to crop to\n",
      "        bits_to_mask: list of int\n",
      "          The indices of the bits to mask if set\n",
      "        \n",
      "        Returns\n",
      "        -------\n",
      "        cloud_mask: np.array\n",
      "          Cloud mask\n",
      "    \n",
      "    process_image(uri, bounds_gdf)\n",
      "        Load, crop, and scale a raster image from earthaccess.\n",
      "        \n",
      "        Parameters\n",
      "        ----------\n",
      "        uri: file-like or path-like\n",
      "          File accessor downloaded or obtained from earthaccess\n",
      "        bounds_gdf: gpd.GeoDataFrame\n",
      "          Area of interest to crop to\n",
      "        \n",
      "        Returns\n",
      "        -------\n",
      "        cropped_da: rxr.DataArray\n",
      "          Processed raster\n",
      "    \n",
      "    process_metadata(city_files)\n",
      "        Process raster data from earthaccess metadata.\n",
      "        \n",
      "        Parameters\n",
      "        ----------\n",
      "        city_files: file-like URI\n",
      "          File names from earthaccess\n",
      "        \n",
      "        Returns\n",
      "        -------\n",
      "        raster_df: DataFrame\n",
      "          DataFrame with the metadata\n",
      "\n",
      "FILE\n",
      "    /Users/brianyandell/Documents/GitHub/landmapy/landmapy/process.py\n",
      "\n",
      "\n"
     ]
    }
   ],
   "source": [
    "from landmapy import process\n",
    "help(process)"
   ]
  },
  {
   "cell_type": "code",
   "execution_count": 3,
   "metadata": {},
   "outputs": [
    {
     "name": "stdout",
     "output_type": "stream",
     "text": [
      "Help on function da_combine in module landmapy.process:\n",
      "\n",
      "da_combine(da1, da2, titles=['RCP45', 'RCP85'], contrast=True)\n",
      "    Create 3-D DA combining two 2-D DAs, with optional contrast.\n",
      "    \n",
      "    Args:\n",
      "        da1, da2 (da): DataArrays to contrast\n",
      "        titles (list of str): Titles to use as new dimension values.\n",
      "    Returns:\n",
      "        da (da): New DataArray with added dimesion.\n",
      "\n"
     ]
    }
   ],
   "source": [
    "from landmapy.process import da_combine\n",
    "help(da_combine)"
   ]
  },
  {
   "cell_type": "code",
   "execution_count": 7,
   "metadata": {},
   "outputs": [
    {
     "name": "stdout",
     "output_type": "stream",
     "text": [
      "Help on module landmapy.habitat in landmapy:\n",
      "\n",
      "NAME\n",
      "    landmapy.habitat\n",
      "\n",
      "FUNCTIONS\n",
      "    create_data_dir(new_dir='habitat')\n",
      "        Create Data Directory if it does not exist.\n",
      "        \n",
      "        Parameters\n",
      "        ----------\n",
      "        new_dir: character string\n",
      "            Name of new directory\n",
      "    \n",
      "    da_bounds(place_gdf, da, buffer=0.1)\n",
      "        Clip bounds from place_gdf on da extended by buffer.\n",
      "        \n",
      "        The buffer value could be 0.025 instead of 0.1\n",
      "        \n",
      "        Parameters\n",
      "        ----------\n",
      "        place_gdf: GeoDataFrame\n",
      "            GeoDataFrame of selected location\n",
      "        da: DataFrame\n",
      "            DataFrame from calling routine\n",
      "        buffer: number\n",
      "            Buffer around bounds of place_gdf\n",
      "        Results\n",
      "        -------\n",
      "        da: DataFrame\n",
      "            DataFrame with restricted to bounds of place_gdf\n",
      "    \n",
      "    maca_year(maca_df, row=0, year=2027)\n",
      "        Extract and print year data\n",
      "        \n",
      "        Parameters\n",
      "        ----------\n",
      "        maca_df: DataFrame\n",
      "            DataFrame with MACA data by row\n",
      "        \n",
      "        Returns\n",
      "        -------\n",
      "        maca_year: DataArray\n",
      "            DataArray for year and row selected.\n",
      "    \n",
      "    merge_soil(place_gdf, soil_var='sand', soil_sum='mean', soil_depth='100_200', buffer=0.1)\n",
      "        Merge soil data.\n",
      "        \n",
      "        Parameters\n",
      "        ----------\n",
      "        place_gdf: GeoDataFrame\n",
      "            GeoDataFrame of selected location\n",
      "        soil_var, soil_sum, soil_depth: character string\n",
      "            Name of soil variable, summary and depth\n",
      "        buffer: number\n",
      "            Buffer around bounds of place_gdf\n",
      "        Results\n",
      "        -------\n",
      "        soil_merged_das: DataFrame\n",
      "            DataFrame with soil estimates clipped to bounds of place_gdf\n",
      "    \n",
      "    process_maca(sites, scenarios=['pr'], climates=['rcp85', 'rcp45'], years=[2026], buffer=0.1)\n",
      "        Process MACA Monthly Data.\n",
      "        \n",
      "        Parameters\n",
      "        ----------\n",
      "        sites: dict of GeoDataFrames\n",
      "           dictionary with GeoDataFrames\n",
      "        scenarios: character string\n",
      "            'pr' = precipitation\n",
      "        climates: character string\n",
      "            'rcp' = relative concentration pathway\n",
      "        years: numeric\n",
      "            first year of 5-year period\n",
      "        buffer: number\n",
      "            Buffer around bounds of place_gdf\n",
      "        \n",
      "        Returns\n",
      "        -------\n",
      "        maca_df: DataFrame\n",
      "            data frame with parameters and values\n",
      "    \n",
      "    ramp_logic(data, up=(), down=())\n",
      "        Fuzzy ramp logic.\n",
      "        \n",
      "        Parameters\n",
      "        ----------\n",
      "        data: DataArray\n",
      "            DataArray with land measurements\n",
      "        up, down: lists of floats\n",
      "            Either 1 (cliff) or 2 (ramp) values for fuzzy on-off\n",
      "        Returns\n",
      "        -------\n",
      "        fuzzy_data: DataArray\n",
      "            Ramp with values between 0 and 1\n",
      "    \n",
      "    soil_url_dict(place_gdf, soil_var='sand', soil_sum='mean', soil_depth='100_200')\n",
      "        Set up soil URLs based on place.\n",
      "        \n",
      "        Parameters\n",
      "        ----------\n",
      "        place_gdf: GeoDataFrame\n",
      "            GeoDataFrame of selected location\n",
      "        soil_var, soil_sum, soil_depth: character string\n",
      "            Name of soil variable, summary and depth\n",
      "        \n",
      "        Results\n",
      "        -------\n",
      "        soil_url: dict\n",
      "            Dictionary of URLs\n",
      "    \n",
      "    srtm_download(place_gdf, elevation_dir, buffer=0.1)\n",
      "        Download SRTM data and create DataArray.\n",
      "        \n",
      "        Parameters\n",
      "        ----------\n",
      "        place_gdf: GeoDataFrame\n",
      "          GeoDataFrame for redlined city\n",
      "        elevation_dir: character string\n",
      "          Name of directory with elevation data\n",
      "        buffer: number\n",
      "          Buffer around bounds of place_gdf\n",
      "        Results\n",
      "        -------\n",
      "        srtm_da: DataArray\n",
      "          DataArray of SRTM stuff\n",
      "    \n",
      "    srtm_slope(srtm_da, UTM=32613)\n",
      "        Calculate slope from SRTM data.\n",
      "        \n",
      "        Project to UTM to calculate slope, then project back.\n",
      "        \n",
      "        Parameters\n",
      "        ----------\n",
      "        srtm_da: DataArray\n",
      "            DataArray with elevation information\n",
      "        UTM: number or character string\n",
      "            UTM value (default is for UTM13N)\n",
      "        Returns\n",
      "        -------\n",
      "        slope_da: DataArray\n",
      "            DataArray with slopes (may be slightly different shape from srtm_da)\n",
      "\n",
      "FILE\n",
      "    /Users/brianyandell/Documents/GitHub/landmapy/landmapy/habitat.py\n",
      "\n",
      "\n"
     ]
    }
   ],
   "source": [
    "from landmapy import habitat\n",
    "help(habitat)"
   ]
  },
  {
   "cell_type": "markdown",
   "metadata": {},
   "source": [
    "## Example Uses of demo modules"
   ]
  },
  {
   "cell_type": "code",
   "execution_count": 3,
   "metadata": {},
   "outputs": [
    {
     "name": "stdout",
     "output_type": "stream",
     "text": [
      "0 1 1 2 3 5 8 13 21 34 55 89 144 233 377 610 987 \n"
     ]
    }
   ],
   "source": [
    "from landmapy import fibo\n",
    "fibo.fib(1000)"
   ]
  },
  {
   "cell_type": "code",
   "execution_count": 4,
   "metadata": {},
   "outputs": [
    {
     "name": "stdout",
     "output_type": "stream",
     "text": [
      "0 1 1 2 3 5 8 13 21 34 55 89 144 233 377 \n"
     ]
    }
   ],
   "source": [
    "from landmapy.fibo import fib as fibonacci\n",
    "fibonacci(500)"
   ]
  },
  {
   "cell_type": "code",
   "execution_count": 5,
   "metadata": {},
   "outputs": [
    {
     "data": {
      "text/plain": [
       "6"
      ]
     },
     "execution_count": 5,
     "metadata": {},
     "output_type": "execute_result"
    }
   ],
   "source": [
    "from landmapy.example import add_one\n",
    "add_one(5)"
   ]
  },
  {
   "cell_type": "code",
   "execution_count": 6,
   "metadata": {},
   "outputs": [
    {
     "data": {
      "text/plain": [
       "'__main__'"
      ]
     },
     "execution_count": 6,
     "metadata": {},
     "output_type": "execute_result"
    }
   ],
   "source": [
    "# `__name__` is a special variable with name of module\n",
    "# main module has value '__main__'.\n",
    "__name__"
   ]
  },
  {
   "cell_type": "code",
   "execution_count": 7,
   "metadata": {},
   "outputs": [
    {
     "name": "stdout",
     "output_type": "stream",
     "text": [
      "5.0\n",
      "landmapy.example\n"
     ]
    }
   ],
   "source": [
    "import landmapy.example as example\n",
    "example.div_two(10)\n",
    "example.mod_name()"
   ]
  },
  {
   "cell_type": "code",
   "execution_count": 8,
   "metadata": {},
   "outputs": [
    {
     "data": {
      "text/plain": [
       "['__builtins__',\n",
       " '__cached__',\n",
       " '__doc__',\n",
       " '__file__',\n",
       " '__loader__',\n",
       " '__name__',\n",
       " '__package__',\n",
       " '__spec__',\n",
       " 'add_one',\n",
       " 'div_two',\n",
       " 'mod_name',\n",
       " 'mod_path']"
      ]
     },
     "execution_count": 8,
     "metadata": {},
     "output_type": "execute_result"
    }
   ],
   "source": [
    "dir(example)"
   ]
  },
  {
   "cell_type": "code",
   "execution_count": 2,
   "metadata": {},
   "outputs": [],
   "source": [
    "from landmapy import process_image"
   ]
  },
  {
   "cell_type": "code",
   "execution_count": 3,
   "metadata": {},
   "outputs": [
    {
     "name": "stdout",
     "output_type": "stream",
     "text": [
      "Help on module landmapy.process_image in landmapy:\n",
      "\n",
      "NAME\n",
      "    landmapy.process_image\n",
      "\n",
      "FUNCTIONS\n",
      "    process_image(uri, bounds_gdf)\n",
      "        Load, crop, and scale a raster image from earthaccess\n",
      "        \n",
      "        Parameters\n",
      "        ----------\n",
      "        uri: file-like or path-like\n",
      "          File accessor downloaded or obtained from earthaccess\n",
      "        bounds_gdf: gpd.GeoDataFrame\n",
      "          Area of interest to crop to\n",
      "        \n",
      "        Returns\n",
      "        -------\n",
      "        cropped_da: rxr.DataArray\n",
      "          Processed raster\n",
      "\n",
      "FILE\n",
      "    /Users/brianyandell/Documents/GitHub/landmapy/landmapy/process_image.py\n",
      "\n",
      "\n"
     ]
    }
   ],
   "source": [
    "help(process_image)"
   ]
  }
 ],
 "metadata": {
  "kernelspec": {
   "display_name": "earth-analytics-python",
   "language": "python",
   "name": "python3"
  },
  "language_info": {
   "codemirror_mode": {
    "name": "ipython",
    "version": 3
   },
   "file_extension": ".py",
   "mimetype": "text/x-python",
   "name": "python",
   "nbconvert_exporter": "python",
   "pygments_lexer": "ipython3",
   "version": "3.11.10"
  }
 },
 "nbformat": 4,
 "nbformat_minor": 2
}
